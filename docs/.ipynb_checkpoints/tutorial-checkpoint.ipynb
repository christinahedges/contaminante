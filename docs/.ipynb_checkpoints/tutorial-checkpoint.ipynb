{
 "cells": [
  {
   "cell_type": "markdown",
   "metadata": {},
   "source": [
    "# How to use `contaminante`\n",
    "\n",
    "This tutorial will show you how to use `contaminante`. If you'd like to try it yourself, you can use `contaminante` online, in the cloud, for free! Click [here](https://colab.research.google.com/github/christinahedges/contaminante/blob/master/tutorials/Colaboratory-Notebook.ipynb) to run `contaminante` online using Google's Colaboratory. "
   ]
  },
  {
   "cell_type": "markdown",
   "metadata": {},
   "source": [
    "## Using `contaminante` on *Kepler* data"
   ]
  },
  {
   "cell_type": "markdown",
   "metadata": {},
   "source": [
    "To demonstrate `contaminante` we'll first use *Kepler* data. First we'll need a target to try `contaminante` on. I've chosen *KIC 6804648*. This target was observed during the prime *Kepler* mission, and was flagged as a planet candidate. In fact, the target has a contaminating eclipsing binary. This binary is only obvious in some of the *Kepler* quarters. \n",
    "\n",
    "Below we run the target through `contaminante`. Running this cell should take less than 5 minutes."
   ]
  },
  {
   "cell_type": "code",
   "execution_count": 1,
   "metadata": {},
   "outputs": [],
   "source": [
    "import contaminante as ct\n",
    "import lightkurve as lk"
   ]
  },
  {
   "cell_type": "code",
   "execution_count": 2,
   "metadata": {},
   "outputs": [
    {
     "data": {
      "text/plain": [
       "'2.0.9'"
      ]
     },
     "execution_count": 2,
     "metadata": {},
     "output_type": "execute_result"
    }
   ],
   "source": [
    "lk.__version__"
   ]
  },
  {
   "cell_type": "code",
   "execution_count": 3,
   "metadata": {},
   "outputs": [],
   "source": [
    "tpfs = lk.search_targetpixelfile('KIC 6804648', quarter=[10, 11, 12]).download_all()\n",
    "period = 0.700606\n",
    "t0 = 131.59767\n",
    "duration = 0.993/24"
   ]
  },
  {
   "cell_type": "code",
   "execution_count": null,
   "metadata": {},
   "outputs": [
    {
     "name": "stderr",
     "output_type": "stream",
     "text": [
      "\r",
      "Modeling TPFs:   0%|          | 0/3 [00:00<?, ?it/s]"
     ]
    }
   ],
   "source": [
    "result = ct.TargetPixelFileCollection(tpfs).calculate_contamination(period, t0, duration, plot=True);"
   ]
  },
  {
   "cell_type": "markdown",
   "metadata": {},
   "source": [
    "Using `contaminante` we can see two pieces of evidence that this target is contaminated.\n",
    "1. There is a significant offset between the center of the **target** (blue dot) in the image, and the **source of the transiting signal** (red dot).\n",
    "2. There is a significant difference between the **target** phase curve (blue phase curve) and the **source of the transiting signal** phase curve (red phase curve).\n",
    "\n",
    "We name the source of the transiting signal that `contaminante` finds the \"contaminator\".\n",
    "\n",
    "The result is a list of dictionaries contains the depth and positions of the target and the \"contamintor\" for each quarter, including errors. The user is encouraged to 1) look at the phase curves 2) look at the positions of the contaminator and target and 3) the transit depths of the contaminator and the target before claiming that a target is contaminated. In the above cases there is a significant difference between the contaminator and the target."
   ]
  },
  {
   "cell_type": "code",
   "execution_count": null,
   "metadata": {},
   "outputs": [],
   "source": [
    "result"
   ]
  },
  {
   "cell_type": "markdown",
   "metadata": {},
   "source": [
    "To compare, we can look at a target that is a true, confirmed planet. Below I run the parameters for **Kepler-10** through `contaminate`."
   ]
  },
  {
   "cell_type": "code",
   "execution_count": null,
   "metadata": {},
   "outputs": [],
   "source": [
    "tpfs = lk.search_targetpixelfile('Kepler-10', quarter=[10, 11, 12], cadence='long', mission='Kepler').download_all()\n",
    "period = 0.837491\n",
    "t0 = 2454964.57513 - 2454833\n",
    "duration = 1.8076/24\n",
    "\n",
    "result = ct.TargetPixelFileCollection(tpfs).calculate_contamination(period, t0, duration, plot=True);"
   ]
  },
  {
   "cell_type": "markdown",
   "metadata": {},
   "source": [
    "Sometimes there will be no significant transiting source that was not the target, and so the `contaminator` and `target` fields will be very similar. Sometimes there will be a weak detection due to a slight difference in optimal aperture. If there is only a small change in centroid ($<<$ than a pixel width) and only a small change in transit depth, this would indicate there is no contaminant."
   ]
  },
  {
   "cell_type": "code",
   "execution_count": null,
   "metadata": {},
   "outputs": [],
   "source": [
    "result"
   ]
  },
  {
   "cell_type": "markdown",
   "metadata": {},
   "source": [
    "## Using `contaminante` on *TESS* Data\n",
    "\n",
    "`contaminante` works on TESS data too. The background scattered light is removed using principle component analysis. For targets that are available in the TESS pipeline TPF products, the TPFs will be used. If no TPF is available, the data will be cut out of the FFI's using the TESSCut API from MAST."
   ]
  },
  {
   "cell_type": "code",
   "execution_count": null,
   "metadata": {
    "scrolled": false
   },
   "outputs": [],
   "source": [
    "# TESS Data\n",
    "tpfs = lk.search_targetpixelfile('TIC 267263253', sector=1).download()\n",
    "period = 4.12688\n",
    "t0 = 2458325.78297 - 2457000\n",
    "duration = 0.3\n",
    "\n",
    "result = ct.TargetPixelFileCollection(tpfs).calculate_contamination(period, t0, duration, plot=True);"
   ]
  },
  {
   "cell_type": "markdown",
   "metadata": {},
   "source": [
    "## Using `contaminante` on *K2* Data\n",
    "\n",
    "`contaminante` works on K2 data too. The motion noise is removed using a similar approach to the Self Flat Fielding technique used in `lightkurve`. Because of the K2 motion the results may be a little harder to interpret. For example, below there is a slight shift in the centroid, but the light curve from that target is not different from the main target. This is likely due to the pipeline apertures for K2 being slightly too small."
   ]
  },
  {
   "cell_type": "code",
   "execution_count": null,
   "metadata": {},
   "outputs": [],
   "source": [
    "tpfs = lk.search_targetpixelfile(\"EPIC 211732801\").download_all()\n",
    "period = 2.1316925\n",
    "t0 = 2308.407161\n",
    "duration = 0.3\n",
    "\n",
    "result = ct.TargetPixelFileCollection(tpfs).calculate_contamination(period, t0, duration, plot=True);"
   ]
  },
  {
   "cell_type": "code",
   "execution_count": null,
   "metadata": {},
   "outputs": [],
   "source": [
    "result"
   ]
  },
  {
   "cell_type": "code",
   "execution_count": null,
   "metadata": {},
   "outputs": [],
   "source": [
    "tpfs = lk.search_targetpixelfile(\"EPIC 201127519\").download_all(quality_bitmask=None)[1:]\n",
    "period = 6.178369\n",
    "t0 = 2457585.55131 - 2454833\n",
    "duration = 0.1\n",
    "\n",
    "result = ct.TargetPixelFileCollection(tpfs).calculate_contamination(period, t0, duration, plot=True);"
   ]
  },
  {
   "cell_type": "code",
   "execution_count": null,
   "metadata": {
    "scrolled": true
   },
   "outputs": [],
   "source": [
    "result"
   ]
  },
  {
   "cell_type": "markdown",
   "metadata": {},
   "source": [
    "## Usage notes\n",
    "\n",
    "1. **Different quarters, campaigns and sectors.** If a target has multiple quarters, campaigns or sectors you can expect each dataset to have some slight offset, due to the target falling on different pixels.\n",
    "\n",
    "2. **Shallower contaminator light curves.** `Contaminante` looks at each pixel individually to see if there is a significant transit signal. Because faint pixels can contribute a transiting signal at a lower, less significant level, some faint pixels can be missed in contaminante. In the case that the contaminator light curve is **shallower** than the target light curve, it is likely that some faint pixels have been missed from the optimum aperture. This does not indicate that there is any contamination.\n",
    "\n"
   ]
  }
 ],
 "metadata": {
  "kernelspec": {
   "display_name": "Python 3",
   "language": "python",
   "name": "python3"
  },
  "language_info": {
   "codemirror_mode": {
    "name": "ipython",
    "version": 3
   },
   "file_extension": ".py",
   "mimetype": "text/x-python",
   "name": "python",
   "nbconvert_exporter": "python",
   "pygments_lexer": "ipython3",
   "version": "3.8.0"
  }
 },
 "nbformat": 4,
 "nbformat_minor": 2
}
